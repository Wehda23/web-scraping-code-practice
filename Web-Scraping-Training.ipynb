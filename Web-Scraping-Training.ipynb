{
 "cells": [
  {
   "cell_type": "markdown",
   "id": "supported-seminar",
   "metadata": {},
   "source": [
    "## Load necessary libraries"
   ]
  },
  {
   "cell_type": "code",
   "execution_count": 2,
   "id": "middle-webmaster",
   "metadata": {},
   "outputs": [],
   "source": [
    "import requests # pip install requests\n",
    "from bs4 import BeautifulSoup as bs # pip install beautifulsoup4"
   ]
  },
  {
   "cell_type": "markdown",
   "id": "composite-wallace",
   "metadata": {},
   "source": [
    "## Load our first page"
   ]
  },
  {
   "cell_type": "code",
   "execution_count": 4,
   "id": "developed-highlight",
   "metadata": {},
   "outputs": [
    {
     "name": "stdout",
     "output_type": "stream",
     "text": [
      "<html>\n",
      " <head>\n",
      "  <title>\n",
      "   HTML Example\n",
      "  </title>\n",
      " </head>\n",
      " <body>\n",
      "  <div align=\"middle\">\n",
      "   <h1>\n",
      "    HTML Webpage\n",
      "   </h1>\n",
      "   <p>\n",
      "    Link to more interesting example:\n",
      "    <a href=\"https://keithgalli.github.io/web-scraping/webpage.html\">\n",
      "     keithgalli.github.io/web-scraping/webpage.html\n",
      "    </a>\n",
      "   </p>\n",
      "  </div>\n",
      "  <h2>\n",
      "   A Header\n",
      "  </h2>\n",
      "  <p>\n",
      "   <i>\n",
      "    Some italicized text\n",
      "   </i>\n",
      "  </p>\n",
      "  <h2>\n",
      "   Another header\n",
      "  </h2>\n",
      "  <p id=\"paragraph-id\">\n",
      "   <b>\n",
      "    Some bold text\n",
      "   </b>\n",
      "  </p>\n",
      " </body>\n",
      "</html>\n",
      "\n"
     ]
    }
   ],
   "source": [
    "#load the web page\n",
    "r = requests.get('https://keithgalli.github.io/web-scraping/example.html')\n",
    "#Convert to a beautifulsoup object\n",
    "soup = bs(r.content)\n",
    "#print out our html\n",
    "print(soup.prettify())"
   ]
  },
  {
   "cell_type": "markdown",
   "id": "figured-reservation",
   "metadata": {},
   "source": [
    "## Start scraping by using Beautiful Soup Library"
   ]
  },
  {
   "cell_type": "markdown",
   "id": "retained-pound",
   "metadata": {},
   "source": [
    "### find and find_all"
   ]
  },
  {
   "cell_type": "code",
   "execution_count": 5,
   "id": "focused-definition",
   "metadata": {},
   "outputs": [
    {
     "data": {
      "text/plain": [
       "<h2>A Header</h2>"
      ]
     },
     "execution_count": 5,
     "metadata": {},
     "output_type": "execute_result"
    }
   ],
   "source": [
    "first_header = soup.find('h2')#finds first header\n",
    "first_header"
   ]
  },
  {
   "cell_type": "code",
   "execution_count": 9,
   "id": "occupied-chambers",
   "metadata": {},
   "outputs": [
    {
     "data": {
      "text/plain": [
       "[<h2>A Header</h2>, <h2>Another header</h2>]"
      ]
     },
     "execution_count": 9,
     "metadata": {},
     "output_type": "execute_result"
    }
   ],
   "source": [
    "headers = soup.find_all('h2')#finds all headers and put them in list\n",
    "headers"
   ]
  },
  {
   "cell_type": "code",
   "execution_count": 10,
   "id": "under-mason",
   "metadata": {},
   "outputs": [
    {
     "data": {
      "text/plain": [
       "<h1>HTML Webpage</h1>"
      ]
     },
     "execution_count": 10,
     "metadata": {},
     "output_type": "execute_result"
    }
   ],
   "source": [
    "# Pass in a list of elements to look for\n",
    "first_header = soup.find(['h1','h2']) # will get only the first element in the code\n",
    "first_header"
   ]
  },
  {
   "cell_type": "code",
   "execution_count": 12,
   "id": "front-peoples",
   "metadata": {},
   "outputs": [
    {
     "data": {
      "text/plain": [
       "[<h1>HTML Webpage</h1>, <h2>A Header</h2>, <h2>Another header</h2>]"
      ]
     },
     "execution_count": 12,
     "metadata": {},
     "output_type": "execute_result"
    }
   ],
   "source": [
    "headers = soup.find_all(['h1','h2'])#finds all in list in the code\n",
    "headers"
   ]
  },
  {
   "cell_type": "code",
   "execution_count": 23,
   "id": "printable-calendar",
   "metadata": {},
   "outputs": [
    {
     "data": {
      "text/plain": [
       "[<p id=\"paragraph-id\"><b>Some bold text</b></p>]"
      ]
     },
     "execution_count": 23,
     "metadata": {},
     "output_type": "execute_result"
    }
   ],
   "source": [
    "# You can pass in attributes to the find/find_all function\n",
    "paragraph = soup.find_all('p',attrs )\n",
    "paragraph"
   ]
  },
  {
   "cell_type": "code",
   "execution_count": 24,
   "id": "metric-spanking",
   "metadata": {},
   "outputs": [
    {
     "data": {
      "text/plain": [
       "<div align=\"middle\">\n",
       "<h1>HTML Webpage</h1>\n",
       "<p>Link to more interesting example: <a href=\"https://keithgalli.github.io/web-scraping/webpage.html\">keithgalli.github.io/web-scraping/webpage.html</a></p>\n",
       "</div>"
      ]
     },
     "execution_count": 24,
     "metadata": {},
     "output_type": "execute_result"
    }
   ],
   "source": [
    "# You can nest find/find_all calls\n",
    "body = soup.find('body')\n",
    "div = body.find('div')\n",
    "div"
   ]
  },
  {
   "cell_type": "code",
   "execution_count": 25,
   "id": "monthly-posting",
   "metadata": {},
   "outputs": [
    {
     "data": {
      "text/plain": [
       "<h1>HTML Webpage</h1>"
      ]
     },
     "execution_count": 25,
     "metadata": {},
     "output_type": "execute_result"
    }
   ],
   "source": [
    "header = div.find('h1')\n",
    "header"
   ]
  },
  {
   "cell_type": "code",
   "execution_count": 34,
   "id": "freelance-librarian",
   "metadata": {},
   "outputs": [
    {
     "name": "stdout",
     "output_type": "stream",
     "text": [
      "[<p id=\"paragraph-id\"><b>Some bold text</b></p>]\n"
     ]
    }
   ],
   "source": [
    "# We can search specific strings in our find/find all calls\n",
    "paragraphs = soup.find_all('p',string ='Some bold text')#has to be exact match\n",
    "print(paragraphs)"
   ]
  },
  {
   "cell_type": "code",
   "execution_count": 35,
   "id": "internal-desire",
   "metadata": {},
   "outputs": [
    {
     "name": "stdout",
     "output_type": "stream",
     "text": [
      "[<p><i>Some italicized text</i></p>, <p id=\"paragraph-id\"><b>Some bold text</b></p>]\n"
     ]
    }
   ],
   "source": [
    "# better solution is import regex library\n",
    "import re\n",
    "paragraphs = soup.find_all('p',string =re.compile('Some'))# all word's but same capitalization\n",
    "print (paragraphs)"
   ]
  },
  {
   "cell_type": "code",
   "execution_count": 37,
   "id": "formed-bubble",
   "metadata": {},
   "outputs": [
    {
     "name": "stdout",
     "output_type": "stream",
     "text": [
      "[<h2>A Header</h2>, <h2>Another header</h2>]\n"
     ]
    }
   ],
   "source": [
    "headers = soup.find_all('h2',string = re.compile(\"(H|h)eader\"))#since it's regex u could use (H|h)to find both letters.\n",
    "print (headers)"
   ]
  },
  {
   "cell_type": "markdown",
   "id": "falling-network",
   "metadata": {},
   "source": [
    "## Select (CSS selector)"
   ]
  },
  {
   "cell_type": "code",
   "execution_count": 39,
   "id": "neutral-chassis",
   "metadata": {},
   "outputs": [
    {
     "data": {
      "text/plain": [
       "[<p>Link to more interesting example: <a href=\"https://keithgalli.github.io/web-scraping/webpage.html\">keithgalli.github.io/web-scraping/webpage.html</a></p>,\n",
       " <p><i>Some italicized text</i></p>,\n",
       " <p id=\"paragraph-id\"><b>Some bold text</b></p>]"
      ]
     },
     "execution_count": 39,
     "metadata": {},
     "output_type": "execute_result"
    }
   ],
   "source": [
    "content = soup.select('p')#similar to Find_all\n",
    "content"
   ]
  },
  {
   "cell_type": "code",
   "execution_count": 40,
   "id": "contrary-wages",
   "metadata": {},
   "outputs": [
    {
     "data": {
      "text/plain": [
       "[<p>Link to more interesting example: <a href=\"https://keithgalli.github.io/web-scraping/webpage.html\">keithgalli.github.io/web-scraping/webpage.html</a></p>]"
      ]
     },
     "execution_count": 40,
     "metadata": {},
     "output_type": "execute_result"
    }
   ],
   "source": [
    "content1 = soup.select('div p')#selecting all paragraphs inside div\n",
    "content1"
   ]
  },
  {
   "cell_type": "code",
   "execution_count": 41,
   "id": "beautiful-twist",
   "metadata": {},
   "outputs": [
    {
     "data": {
      "text/plain": [
       "[<p><i>Some italicized text</i></p>,\n",
       " <p id=\"paragraph-id\"><b>Some bold text</b></p>]"
      ]
     },
     "execution_count": 41,
     "metadata": {},
     "output_type": "execute_result"
    }
   ],
   "source": [
    "paragraphs = soup.select('h2 ~ p')# ~ selecting pargraphs right after headers h2\n",
    "paragraphs"
   ]
  },
  {
   "cell_type": "code",
   "execution_count": 48,
   "id": "strange-senate",
   "metadata": {},
   "outputs": [
    {
     "name": "stdout",
     "output_type": "stream",
     "text": [
      "<b>Some bold text</b>\n"
     ]
    }
   ],
   "source": [
    "bold_text = soup.select('p#paragraph-id b')# p paragraphe #paragrapd- id (css id) b bold text\n",
    "print(bold_text[0])"
   ]
  },
  {
   "cell_type": "code",
   "execution_count": 50,
   "id": "cubic-publication",
   "metadata": {},
   "outputs": [
    {
     "name": "stdout",
     "output_type": "stream",
     "text": [
      "[<p><i>Some italicized text</i></p>, <p id=\"paragraph-id\"><b>Some bold text</b></p>]\n",
      "[<i>Some italicized text</i>]\n",
      "[]\n"
     ]
    }
   ],
   "source": [
    "#selecting a direct decendant of a parent\n",
    "paragraphs = soup.select(\"body > p\")\n",
    "print(paragraphs)\n",
    "for paragraph in paragraphs:\n",
    "    print(paragraph.select('i'))"
   ]
  },
  {
   "cell_type": "code",
   "execution_count": 51,
   "id": "parental-association",
   "metadata": {},
   "outputs": [
    {
     "data": {
      "text/plain": [
       "[<div align=\"middle\">\n",
       " <h1>HTML Webpage</h1>\n",
       " <p>Link to more interesting example: <a href=\"https://keithgalli.github.io/web-scraping/webpage.html\">keithgalli.github.io/web-scraping/webpage.html</a></p>\n",
       " </div>]"
      ]
     },
     "execution_count": 51,
     "metadata": {},
     "output_type": "execute_result"
    }
   ],
   "source": [
    "#Grab by element with specific property\n",
    "soup.select('[align=middle]')"
   ]
  },
  {
   "cell_type": "markdown",
   "id": "adverse-developer",
   "metadata": {},
   "source": [
    "## Get different properties of the HTML"
   ]
  },
  {
   "cell_type": "code",
   "execution_count": 54,
   "id": "fabulous-volleyball",
   "metadata": {},
   "outputs": [
    {
     "data": {
      "text/plain": [
       "'A Header'"
      ]
     },
     "execution_count": 54,
     "metadata": {},
     "output_type": "execute_result"
    }
   ],
   "source": [
    "header = soup.find('h2')\n",
    "header.string# .string will make it give me the text inside the header."
   ]
  },
  {
   "cell_type": "code",
   "execution_count": 62,
   "id": "technological-challenge",
   "metadata": {},
   "outputs": [
    {
     "name": "stdout",
     "output_type": "stream",
     "text": [
      "<div align=\"middle\">\n",
      " <h1>\n",
      "  HTML Webpage\n",
      " </h1>\n",
      " <p>\n",
      "  Link to more interesting example:\n",
      "  <a href=\"https://keithgalli.github.io/web-scraping/webpage.html\">\n",
      "   keithgalli.github.io/web-scraping/webpage.html\n",
      "  </a>\n",
      " </p>\n",
      "</div>\n",
      "\n",
      "\n",
      "HTML Webpage\n",
      "Link to more interesting example: keithgalli.github.io/web-scraping/webpage.html\n",
      "\n"
     ]
    }
   ],
   "source": [
    "div = soup.find('div')\n",
    "print(div.prettify())\n",
    "print(div.get_text())# cant use .string in bigger objects but could use .get_text()"
   ]
  },
  {
   "cell_type": "markdown",
   "id": "robust-hygiene",
   "metadata": {},
   "source": [
    "## Get links "
   ]
  },
  {
   "cell_type": "code",
   "execution_count": 68,
   "id": "backed-feedback",
   "metadata": {},
   "outputs": [
    {
     "name": "stdout",
     "output_type": "stream",
     "text": [
      "https://keithgalli.github.io/web-scraping/webpage.html\n"
     ]
    }
   ],
   "source": [
    "#Get a specific property from an element\n",
    "link = soup.find(\"a\")\n",
    "print(link['href'])"
   ]
  },
  {
   "cell_type": "code",
   "execution_count": 69,
   "id": "cardiac-stroke",
   "metadata": {},
   "outputs": [
    {
     "data": {
      "text/plain": [
       "'paragraph-id'"
      ]
     },
     "execution_count": 69,
     "metadata": {},
     "output_type": "execute_result"
    }
   ],
   "source": [
    "paragraphs = soup.select('p#paragraph-id')\n",
    "paragraphs[0]['id']"
   ]
  },
  {
   "cell_type": "markdown",
   "id": "modular-illinois",
   "metadata": {},
   "source": [
    "### Code navigation"
   ]
  },
  {
   "cell_type": "code",
   "execution_count": 73,
   "id": "defensive-parker",
   "metadata": {},
   "outputs": [
    {
     "data": {
      "text/plain": [
       "'HTML Webpage'"
      ]
     },
     "execution_count": 73,
     "metadata": {},
     "output_type": "execute_result"
    }
   ],
   "source": [
    "# Path syntax\n",
    "soup.body.div.h1.string"
   ]
  },
  {
   "cell_type": "code",
   "execution_count": 77,
   "id": "engaged-depression",
   "metadata": {},
   "outputs": [
    {
     "data": {
      "text/plain": [
       "[<h2>A Header</h2>,\n",
       " <p><i>Some italicized text</i></p>,\n",
       " <h2>Another header</h2>,\n",
       " <p id=\"paragraph-id\"><b>Some bold text</b></p>]"
      ]
     },
     "execution_count": 77,
     "metadata": {},
     "output_type": "execute_result"
    }
   ],
   "source": [
    "# know the terms: Parent, Sibling, Child\n",
    "#find_next_siblings() or find_next_sibling()\n",
    "soup.body.div.find_next_siblings()\n",
    "# or type code like this soup.body.find('div').find_next_sibling() or .find_next_siblings()\n"
   ]
  },
  {
   "cell_type": "markdown",
   "id": "durable-samuel",
   "metadata": {},
   "source": [
    "## Exercises!\n",
    "\n",
    "Go to https://keithgalli.github.io/web-scraping/webpage.html"
   ]
  },
  {
   "cell_type": "markdown",
   "id": "collective-division",
   "metadata": {},
   "source": [
    "## Load the webpage"
   ]
  },
  {
   "cell_type": "code",
   "execution_count": 81,
   "id": "elect-pasta",
   "metadata": {},
   "outputs": [
    {
     "name": "stdout",
     "output_type": "stream",
     "text": [
      "<head>\n",
      " <title>\n",
      "  Keith Galli's Page\n",
      " </title>\n",
      " <style>\n",
      "  table {\n",
      "    border-collapse: collapse;\n",
      "  }\n",
      "  th {\n",
      "    padding:5px;\n",
      "  }\n",
      "  td {\n",
      "    border: 1px solid #ddd;\n",
      "    padding: 5px;\n",
      "  }\n",
      "  tr:nth-child(even) {\n",
      "    background-color: #f2f2f2;\n",
      "  }\n",
      "  th {\n",
      "    padding-top: 12px;\n",
      "    padding-bottom: 12px;\n",
      "    text-align: left;\n",
      "    background-color: #add8e6;\n",
      "    color: black;\n",
      "  }\n",
      "  .block {\n",
      "  width: 100px;\n",
      "  /*float: left;*/\n",
      "    display: inline-block;\n",
      "    zoom: 1;\n",
      "  }\n",
      "  .column {\n",
      "  float: left;\n",
      "  height: 200px;\n",
      "  /*width: 33.33%;*/\n",
      "  padding: 5px;\n",
      "  }\n",
      "\n",
      "  .row::after {\n",
      "    content: \"\";\n",
      "    clear: both;\n",
      "    display: table;\n",
      "  }\n",
      " </style>\n",
      "</head>\n",
      "<body>\n",
      " <h1>\n",
      "  Welcome to my page!\n",
      " </h1>\n",
      " <img src=\"./images/selfie1.jpg\" width=\"300px\"/>\n",
      " <h2>\n",
      "  About me\n",
      " </h2>\n",
      " <p>\n",
      "  Hi, my name is Keith and I am a YouTuber who focuses on content related to programming, data science, and machine learning!\n",
      " </p>\n",
      " <p>\n",
      "  Here is a link to my channel:\n",
      "  <a href=\"https://www.youtube.com/kgmit\">\n",
      "   youtube.com/kgmit\n",
      "  </a>\n",
      " </p>\n",
      " <p>\n",
      "  I grew up in the great state of New Hampshire here in the USA. From an early age I always loved math. Around my senior year of high school, my brother first introduced me to programming. I found it a creative way to apply the same type of logical thinking skills that I enjoyed with math. This influenced me to study computer science in college and ultimately create a YouTube channel to share some things that I have learned along the way.\n",
      " </p>\n",
      " <h3>\n",
      "  Hobbies\n",
      " </h3>\n",
      " <p>\n",
      "  Believe it or not, I don't code 24/7. I love doing all sorts of active things. I like to play ice hockey &amp; table tennis as well as run, hike, skateboard, and snowboard. In addition to sports, I am a board game enthusiast. The two that I've been playing the most recently are\n",
      "  <i>\n",
      "   Settlers of Catan\n",
      "  </i>\n",
      "  and\n",
      "  <i>\n",
      "   Othello\n",
      "  </i>\n",
      "  .\n",
      " </p>\n",
      " <h3>\n",
      "  Fun Facts\n",
      " </h3>\n",
      " <ul class=\"fun-facts\">\n",
      "  <li>\n",
      "   Owned my dream car in high school\n",
      "   <a href=\"#footer\">\n",
      "    <sup>\n",
      "     1\n",
      "    </sup>\n",
      "   </a>\n",
      "  </li>\n",
      "  <li>\n",
      "   Middle name is Ronald\n",
      "  </li>\n",
      "  <li>\n",
      "   Never had been on a plane until college\n",
      "  </li>\n",
      "  <li>\n",
      "   Dunkin Donuts coffee is better than Starbucks\n",
      "  </li>\n",
      "  <li>\n",
      "   A favorite book series of mine is\n",
      "   <i>\n",
      "    Ender's Game\n",
      "   </i>\n",
      "  </li>\n",
      "  <li>\n",
      "   Current video game of choice is\n",
      "   <i>\n",
      "    Rocket League\n",
      "   </i>\n",
      "  </li>\n",
      "  <li>\n",
      "   The band that I've seen the most times live is the\n",
      "   <i>\n",
      "    Zac Brown Band\n",
      "   </i>\n",
      "  </li>\n",
      " </ul>\n",
      " <h2>\n",
      "  Social Media\n",
      " </h2>\n",
      " I encourage you to check out my content on all social media platforms\n",
      " <br/>\n",
      " <ul class=\"socials\">\n",
      "  <li class=\"social instagram\">\n",
      "   <b>\n",
      "    Instagram:\n",
      "   </b>\n",
      "   <a href=\"https://www.instagram.com/keithgalli/\">\n",
      "    https://www.instagram.com/keithgalli/\n",
      "   </a>\n",
      "  </li>\n",
      "  <li class=\"social twitter\">\n",
      "   <b>\n",
      "    Twitter:\n",
      "   </b>\n",
      "   <a href=\"https://twitter.com/keithgalli\">\n",
      "    https://twitter.com/keithgalli\n",
      "   </a>\n",
      "  </li>\n",
      "  <li class=\"social linkedin\">\n",
      "   <b>\n",
      "    LinkedIn:\n",
      "   </b>\n",
      "   <a href=\"https://www.linkedin.com/in/keithgalli/\">\n",
      "    https://www.linkedin.com/in/keithgalli/\n",
      "   </a>\n",
      "  </li>\n",
      "  <li class=\"social tiktok\">\n",
      "   <b>\n",
      "    TikTok:\n",
      "   </b>\n",
      "   <a href=\"https://www.tiktok.com/@keithgalli\">\n",
      "    https://www.tiktok.com/@keithgalli\n",
      "   </a>\n",
      "  </li>\n",
      " </ul>\n",
      " <h2>\n",
      "  Photos\n",
      " </h2>\n",
      " Here are a few photos from a trip to italy I took last year\n",
      " <div class=\"row\">\n",
      "  <div class=\"column\">\n",
      "   <img alt=\"Lake Como\" src=\"images/italy/lake_como.jpg\" style=\"height:100%\"/>\n",
      "  </div>\n",
      "  <div class=\"column\">\n",
      "   <img alt=\"Pontevecchio, Florence\" src=\"images/italy/pontevecchio.jpg\" style=\"height:100%\"/>\n",
      "  </div>\n",
      "  <div class=\"column\">\n",
      "   <img alt=\"Riomaggiore, Cinque de Terre\" src=\"images/italy/riomaggiore.jpg\" style=\"height:100%\"/>\n",
      "  </div>\n",
      " </div>\n",
      " <div>\n",
      " </div>\n",
      " <h2>\n",
      "  Table\n",
      " </h2>\n",
      " My MIT hockey stats :)\n",
      " <br/>\n",
      " <table class=\"hockey-stats\">\n",
      "  <thead>\n",
      "   <tr>\n",
      "    <th class=\"season\" data-sort=\"\">\n",
      "     S\n",
      "    </th>\n",
      "    <th class=\"team\" data-sort=\"team\">\n",
      "     Team\n",
      "    </th>\n",
      "    <th class=\"league\" data-sort=\"league\">\n",
      "     League\n",
      "    </th>\n",
      "    <th class=\"regular gp\" data-sort=\"gp\">\n",
      "     GP\n",
      "    </th>\n",
      "    <th class=\"regular g\" data-sort=\"g\">\n",
      "     G\n",
      "    </th>\n",
      "    <th class=\"regular a\" data-sort=\"a\">\n",
      "     A\n",
      "    </th>\n",
      "    <th class=\"regular tp\" data-sort=\"tp\">\n",
      "     TP\n",
      "    </th>\n",
      "    <th class=\"regular pim\" data-sort=\"pim\">\n",
      "     PIM\n",
      "    </th>\n",
      "    <th class=\"regular pm\" data-sort=\"pm\">\n",
      "     +/-\n",
      "    </th>\n",
      "    <th class=\"separator\">\n",
      "    </th>\n",
      "    <th class=\"postseason\">\n",
      "     POST\n",
      "    </th>\n",
      "    <th class=\"postseason gp\" data-sort=\"playoffs-gp\">\n",
      "     GP\n",
      "    </th>\n",
      "    <th class=\"postseason g\" data-sort=\"playoffs-g\">\n",
      "     G\n",
      "    </th>\n",
      "    <th class=\"postseason a\" data-sort=\"playoffs-a\">\n",
      "     A\n",
      "    </th>\n",
      "    <th class=\"postseason tp\" data-sort=\"playoffs-tp\">\n",
      "     TP\n",
      "    </th>\n",
      "    <th class=\"postseason pim\" data-sort=\"playoffs-pim\">\n",
      "     PIM\n",
      "    </th>\n",
      "    <th class=\"postseason pm\" data-sort=\"playoffs-pm\">\n",
      "     +/-\n",
      "    </th>\n",
      "   </tr>\n",
      "  </thead>\n",
      "  <tbody>\n",
      "   <tr class=\"team-continent-NA\">\n",
      "    <td class=\"season sorted\">\n",
      "     2014-15\n",
      "    </td>\n",
      "    <td class=\"team\">\n",
      "     <i>\n",
      "      <img src=\"images/flag.png\"/>\n",
      "     </i>\n",
      "     <span class=\"txt-blue\">\n",
      "      <a href=\"https://www.eliteprospects.com/team/10263/mit-mass.-inst.-of-tech./2014-2015?tab=stats\">\n",
      "       MIT (Mass. Inst. of Tech.)\n",
      "      </a>\n",
      "     </span>\n",
      "    </td>\n",
      "    <td class=\"league\">\n",
      "     <a href=\"https://www.eliteprospects.com/league/acha-ii/stats/2014-2015\">\n",
      "      ACHA II\n",
      "     </a>\n",
      "    </td>\n",
      "    <td class=\"regular gp\">\n",
      "     17\n",
      "    </td>\n",
      "    <td class=\"regular g\">\n",
      "     3\n",
      "    </td>\n",
      "    <td class=\"regular a\">\n",
      "     9\n",
      "    </td>\n",
      "    <td class=\"regular tp\">\n",
      "     12\n",
      "    </td>\n",
      "    <td class=\"regular pim\">\n",
      "     20\n",
      "    </td>\n",
      "    <td class=\"regular pm\">\n",
      "    </td>\n",
      "    <td class=\"separator\">\n",
      "     |\n",
      "    </td>\n",
      "    <td class=\"postseason\">\n",
      "     <a href=\"https://www.eliteprospects.com/league/acha-ii/stats/2014-2015\">\n",
      "     </a>\n",
      "    </td>\n",
      "    <td class=\"postseason gp\">\n",
      "    </td>\n",
      "    <td class=\"postseason g\">\n",
      "    </td>\n",
      "    <td class=\"postseason a\">\n",
      "    </td>\n",
      "    <td class=\"postseason tp\">\n",
      "    </td>\n",
      "    <td class=\"postseason pim\">\n",
      "    </td>\n",
      "    <td class=\"postseason pm\">\n",
      "    </td>\n",
      "   </tr>\n",
      "   <tr class=\"team-continent-NA\">\n",
      "    <td class=\"season sorted\">\n",
      "     2015-16\n",
      "    </td>\n",
      "    <td class=\"team\">\n",
      "     <i>\n",
      "      <img src=\"images/flag.png\"/>\n",
      "     </i>\n",
      "     <span class=\"txt-blue\">\n",
      "      <a href=\"https://www.eliteprospects.com/team/10263/mit-mass.-inst.-of-tech./2015-2016?tab=stats\">\n",
      "       MIT (Mass. Inst. of Tech.)\n",
      "      </a>\n",
      "     </span>\n",
      "    </td>\n",
      "    <td class=\"league\">\n",
      "     <a href=\"https://www.eliteprospects.com/league/acha-ii/stats/2015-2016\">\n",
      "      ACHA II\n",
      "     </a>\n",
      "    </td>\n",
      "    <td class=\"regular gp\">\n",
      "     9\n",
      "    </td>\n",
      "    <td class=\"regular g\">\n",
      "     1\n",
      "    </td>\n",
      "    <td class=\"regular a\">\n",
      "     1\n",
      "    </td>\n",
      "    <td class=\"regular tp\">\n",
      "     2\n",
      "    </td>\n",
      "    <td class=\"regular pim\">\n",
      "     2\n",
      "    </td>\n",
      "    <td class=\"regular pm\">\n",
      "    </td>\n",
      "    <td class=\"separator\">\n",
      "     |\n",
      "    </td>\n",
      "    <td class=\"postseason\">\n",
      "     <a href=\"https://www.eliteprospects.com/league/acha-ii/stats/2015-2016\">\n",
      "     </a>\n",
      "    </td>\n",
      "    <td class=\"postseason gp\">\n",
      "    </td>\n",
      "    <td class=\"postseason g\">\n",
      "    </td>\n",
      "    <td class=\"postseason a\">\n",
      "    </td>\n",
      "    <td class=\"postseason tp\">\n",
      "    </td>\n",
      "    <td class=\"postseason pim\">\n",
      "    </td>\n",
      "    <td class=\"postseason pm\">\n",
      "    </td>\n",
      "   </tr>\n",
      "   <tr class=\"team-continent-NA\">\n",
      "    <td class=\"season sorted\">\n",
      "     2016-17\n",
      "    </td>\n",
      "    <td class=\"team\">\n",
      "     <i>\n",
      "      <img src=\"images/flag.png\"/>\n",
      "     </i>\n",
      "     <span class=\"txt-blue\">\n",
      "      <a href=\"https://www.eliteprospects.com/team/10263/mit-mass.-inst.-of-tech./2016-2017?tab=stats\">\n",
      "       MIT (Mass. Inst. of Tech.)\n",
      "      </a>\n",
      "     </span>\n",
      "    </td>\n",
      "    <td class=\"league\">\n",
      "     <a href=\"https://www.eliteprospects.com/league/acha-ii/stats/2016-2017\">\n",
      "      ACHA II\n",
      "     </a>\n",
      "    </td>\n",
      "    <td class=\"regular gp\">\n",
      "     12\n",
      "    </td>\n",
      "    <td class=\"regular g\">\n",
      "     5\n",
      "    </td>\n",
      "    <td class=\"regular a\">\n",
      "     5\n",
      "    </td>\n",
      "    <td class=\"regular tp\">\n",
      "     10\n",
      "    </td>\n",
      "    <td class=\"regular pim\">\n",
      "     8\n",
      "    </td>\n",
      "    <td class=\"regular pm\">\n",
      "     0\n",
      "    </td>\n",
      "    <td class=\"separator\">\n",
      "     |\n",
      "    </td>\n",
      "    <td class=\"postseason\">\n",
      "    </td>\n",
      "    <td class=\"postseason gp\">\n",
      "    </td>\n",
      "    <td class=\"postseason g\">\n",
      "    </td>\n",
      "    <td class=\"postseason a\">\n",
      "    </td>\n",
      "    <td class=\"postseason tp\">\n",
      "    </td>\n",
      "    <td class=\"postseason pim\">\n",
      "    </td>\n",
      "    <td class=\"postseason pm\">\n",
      "    </td>\n",
      "   </tr>\n",
      "   <tr class=\"team-continent-EU\">\n",
      "    <td class=\"season sorted\">\n",
      "     2017-18\n",
      "    </td>\n",
      "    <td class=\"team\">\n",
      "     Did not play\n",
      "    </td>\n",
      "    <td class=\"league\">\n",
      "     <a href=\"https://www.eliteprospects.com/stats\">\n",
      "     </a>\n",
      "    </td>\n",
      "    <td class=\"regular gp\">\n",
      "    </td>\n",
      "    <td class=\"regular g\">\n",
      "    </td>\n",
      "    <td class=\"regular a\">\n",
      "    </td>\n",
      "    <td class=\"regular tp\">\n",
      "    </td>\n",
      "    <td class=\"regular pim\">\n",
      "    </td>\n",
      "    <td class=\"regular pm\">\n",
      "    </td>\n",
      "    <td class=\"separator\">\n",
      "     |\n",
      "    </td>\n",
      "    <td class=\"postseason\">\n",
      "     <a href=\"https://www.eliteprospects.com/stats\">\n",
      "     </a>\n",
      "    </td>\n",
      "    <td class=\"postseason gp\">\n",
      "    </td>\n",
      "    <td class=\"postseason g\">\n",
      "    </td>\n",
      "    <td class=\"postseason a\">\n",
      "    </td>\n",
      "    <td class=\"postseason tp\">\n",
      "    </td>\n",
      "    <td class=\"postseason pim\">\n",
      "    </td>\n",
      "    <td class=\"postseason pm\">\n",
      "    </td>\n",
      "   </tr>\n",
      "   <tr class=\"team-continent-NA\">\n",
      "    <td class=\"season sorted\">\n",
      "     2018-19\n",
      "    </td>\n",
      "    <td class=\"team\">\n",
      "     <i>\n",
      "      <img src=\"images/flag.png\"/>\n",
      "     </i>\n",
      "     <span class=\"txt-blue\">\n",
      "      <a href=\"https://www.eliteprospects.com/team/10263/mit-mass.-inst.-of-tech./2018-2019?tab=stats\">\n",
      "       MIT (Mass. Inst. of Tech.)\n",
      "      </a>\n",
      "     </span>\n",
      "    </td>\n",
      "    <td class=\"league\">\n",
      "     <a href=\"https://www.eliteprospects.com/league/acha-iii/stats/2018-2019\">\n",
      "      ACHA III\n",
      "     </a>\n",
      "    </td>\n",
      "    <td class=\"regular gp\">\n",
      "     8\n",
      "    </td>\n",
      "    <td class=\"regular g\">\n",
      "     5\n",
      "    </td>\n",
      "    <td class=\"regular a\">\n",
      "     10\n",
      "    </td>\n",
      "    <td class=\"regular tp\">\n",
      "     15\n",
      "    </td>\n",
      "    <td class=\"regular pim\">\n",
      "     8\n",
      "    </td>\n",
      "    <td class=\"regular pm\">\n",
      "    </td>\n",
      "    <td class=\"separator\">\n",
      "     |\n",
      "    </td>\n",
      "    <td class=\"postseason\">\n",
      "     <a href=\"https://www.eliteprospects.com/league/acha-iii/stats/2018-2019\">\n",
      "     </a>\n",
      "    </td>\n",
      "    <td class=\"postseason gp\">\n",
      "    </td>\n",
      "    <td class=\"postseason g\">\n",
      "    </td>\n",
      "    <td class=\"postseason a\">\n",
      "    </td>\n",
      "    <td class=\"postseason tp\">\n",
      "    </td>\n",
      "    <td class=\"postseason pim\">\n",
      "    </td>\n",
      "    <td class=\"postseason pm\">\n",
      "    </td>\n",
      "   </tr>\n",
      "  </tbody>\n",
      " </table>\n",
      " <h2>\n",
      "  Mystery Message Challenge!\n",
      " </h2>\n",
      " <p>\n",
      "  If you scrape the links below grabbing the &lt;p&gt; tag with id=\"secret-word\", you'll discover a secret message :)\n",
      " </p>\n",
      " <div width=\"50%\">\n",
      "  <div align=\"left\" class=\"block\">\n",
      "   <ul>\n",
      "    <li>\n",
      "     <a href=\"challenge/file_1.html\">\n",
      "      File 1\n",
      "     </a>\n",
      "    </li>\n",
      "    <li>\n",
      "     <a href=\"challenge/file_2.html\">\n",
      "      File 2\n",
      "     </a>\n",
      "    </li>\n",
      "    <li>\n",
      "     <a href=\"challenge/file_3.html\">\n",
      "      File 3\n",
      "     </a>\n",
      "    </li>\n",
      "    <li>\n",
      "     <a href=\"challenge/file_4.html\">\n",
      "      File 4\n",
      "     </a>\n",
      "    </li>\n",
      "    <li>\n",
      "     <a href=\"challenge/file_5.html\">\n",
      "      File 5\n",
      "     </a>\n",
      "    </li>\n",
      "   </ul>\n",
      "  </div>\n",
      "  <div align=\"center\" class=\"block\">\n",
      "   <ul>\n",
      "    <li>\n",
      "     <a href=\"challenge/file_6.html\">\n",
      "      File 6\n",
      "     </a>\n",
      "    </li>\n",
      "    <li>\n",
      "     <a href=\"challenge/file_7.html\">\n",
      "      File 7\n",
      "     </a>\n",
      "    </li>\n",
      "    <li>\n",
      "     <a href=\"challenge/file_8.html\">\n",
      "      File 8\n",
      "     </a>\n",
      "    </li>\n",
      "    <li>\n",
      "     <a href=\"challenge/file_9.html\">\n",
      "      File 9\n",
      "     </a>\n",
      "    </li>\n",
      "    <li>\n",
      "     <a href=\"challenge/file_10.html\">\n",
      "      File 10\n",
      "     </a>\n",
      "    </li>\n",
      "   </ul>\n",
      "  </div>\n",
      " </div>\n",
      " <h2>\n",
      "  Footnotes\n",
      " </h2>\n",
      " <p id=\"footer\">\n",
      "  1. This was actually a minivan that I named Debora. Maybe not my dream car, but I loved her nonetheless.\n",
      " </p>\n",
      "</body>\n",
      "\n"
     ]
    }
   ],
   "source": [
    "r = requests.get('https://keithgalli.github.io/web-scraping/webpage.html')\n",
    "webpage = bs(r.content)\n",
    "print(webpage.prettify())"
   ]
  },
  {
   "cell_type": "markdown",
   "id": "billion-indicator",
   "metadata": {},
   "source": [
    "## Grab all of the social links from webpage\n",
    "\n",
    "Do this in at least 3 different ways\n"
   ]
  },
  {
   "cell_type": "code",
   "execution_count": 89,
   "id": "infrared-impact",
   "metadata": {},
   "outputs": [
    {
     "data": {
      "text/plain": [
       "<ul class=\"socials\">\n",
       "<li class=\"social instagram\"><b>Instagram: </b><a href=\"https://www.instagram.com/keithgalli/\">https://www.instagram.com/keithgalli/</a></li>\n",
       "<li class=\"social twitter\"><b>Twitter: </b><a href=\"https://twitter.com/keithgalli\">https://twitter.com/keithgalli</a></li>\n",
       "<li class=\"social linkedin\"><b>LinkedIn: </b><a href=\"https://www.linkedin.com/in/keithgalli/\">https://www.linkedin.com/in/keithgalli/</a></li>\n",
       "<li class=\"social tiktok\"><b>TikTok: </b><a href=\"https://www.tiktok.com/@keithgalli\">https://www.tiktok.com/@keithgalli</a></li>\n",
       "</ul>"
      ]
     },
     "execution_count": 89,
     "metadata": {},
     "output_type": "execute_result"
    }
   ],
   "source": [
    "sociallinks = webpage.find(\"ul\",attrs='socials')\n",
    "sociallinks"
   ]
  },
  {
   "cell_type": "code",
   "execution_count": 93,
   "id": "guilty-bottle",
   "metadata": {},
   "outputs": [
    {
     "name": "stdout",
     "output_type": "stream",
     "text": [
      "https://www.instagram.com/keithgalli/\n"
     ]
    }
   ],
   "source": [
    "instigram = sociallinks.find('li',attrs='social instagram')\n",
    "instigram\n",
    "instlink = instigram.find('a')\n",
    "print(instlink['href'])"
   ]
  },
  {
   "cell_type": "code",
   "execution_count": 96,
   "id": "worthy-anger",
   "metadata": {},
   "outputs": [
    {
     "name": "stdout",
     "output_type": "stream",
     "text": [
      "https://twitter.com/keithgalli\n"
     ]
    }
   ],
   "source": [
    "facebook = sociallinks.find('li',attrs = 'social twitter')\n",
    "facelink = facebook.find('a')\n",
    "print(facelink['href'])"
   ]
  },
  {
   "cell_type": "code",
   "execution_count": 98,
   "id": "advanced-monte",
   "metadata": {},
   "outputs": [
    {
     "name": "stdout",
     "output_type": "stream",
     "text": [
      "https://www.tiktok.com/@keithgalli\n"
     ]
    }
   ],
   "source": [
    "tiktok = sociallinks.find('li',attrs = 'social tiktok')\n",
    "tiklink = tiktok.find('a')\n",
    "print(tiklink['href'])"
   ]
  },
  {
   "cell_type": "markdown",
   "id": "impressed-apollo",
   "metadata": {},
   "source": [
    "### Kieth Gally Answer"
   ]
  },
  {
   "cell_type": "code",
   "execution_count": 102,
   "id": "retired-cooking",
   "metadata": {},
   "outputs": [
    {
     "data": {
      "text/plain": [
       "['https://www.instagram.com/keithgalli/',\n",
       " 'https://twitter.com/keithgalli',\n",
       " 'https://www.linkedin.com/in/keithgalli/',\n",
       " 'https://www.tiktok.com/@keithgalli']"
      ]
     },
     "execution_count": 102,
     "metadata": {},
     "output_type": "execute_result"
    }
   ],
   "source": [
    "links = webpage.select('ul.socials a')\n",
    "actual_links = [link['href'] for link in links]\n",
    "actual_links"
   ]
  },
  {
   "cell_type": "code",
   "execution_count": 111,
   "id": "continental-adobe",
   "metadata": {},
   "outputs": [
    {
     "data": {
      "text/plain": [
       "['https://www.instagram.com/keithgalli/',\n",
       " 'https://twitter.com/keithgalli',\n",
       " 'https://www.linkedin.com/in/keithgalli/',\n",
       " 'https://www.tiktok.com/@keithgalli']"
      ]
     },
     "execution_count": 111,
     "metadata": {},
     "output_type": "execute_result"
    }
   ],
   "source": [
    "ulist = webpage.find('ul',attrs = 'socials')\n",
    "links = ulist.find_all('a')\n",
    "actual_links = [link['href'] for link in links]\n",
    "actual_links"
   ]
  },
  {
   "cell_type": "code",
   "execution_count": 113,
   "id": "loose-breath",
   "metadata": {},
   "outputs": [
    {
     "data": {
      "text/plain": [
       "['https://www.instagram.com/keithgalli/',\n",
       " 'https://twitter.com/keithgalli',\n",
       " 'https://www.linkedin.com/in/keithgalli/',\n",
       " 'https://www.tiktok.com/@keithgalli']"
      ]
     },
     "execution_count": 113,
     "metadata": {},
     "output_type": "execute_result"
    }
   ],
   "source": [
    "links = webpage.select('li.social a')\n",
    "actual_links = [link['href'] for link in links]\n",
    "actual_links"
   ]
  },
  {
   "cell_type": "markdown",
   "id": "killing-trainer",
   "metadata": {},
   "source": [
    "### Scrape the table"
   ]
  },
  {
   "cell_type": "code",
   "execution_count": 115,
   "id": "technological-passenger",
   "metadata": {},
   "outputs": [
    {
     "name": "stdout",
     "output_type": "stream",
     "text": [
      "['https://www.eliteprospects.com/team/10263/mit-mass.-inst.-of-tech./2014-2015?tab=stats', 'https://www.eliteprospects.com/team/10263/mit-mass.-inst.-of-tech./2015-2016?tab=stats', 'https://www.eliteprospects.com/team/10263/mit-mass.-inst.-of-tech./2016-2017?tab=stats', 'https://www.eliteprospects.com/team/10263/mit-mass.-inst.-of-tech./2018-2019?tab=stats']\n"
     ]
    }
   ],
   "source": [
    "links = webpage.select('span.txt-blue a')\n",
    "actual_links = [link['href'] for link in links]\n",
    "print(actual_links)"
   ]
  },
  {
   "cell_type": "code",
   "execution_count": null,
   "id": "infinite-quantity",
   "metadata": {},
   "outputs": [],
   "source": [
    "### geting table from location to pandas\n",
    "for tr in table_rows:\n",
    "    td =tr.find_all('td')\n",
    "    row = [tr.string for tr in td]\n",
    "    l.append(row)\n",
    "pd.DataFrame(l,columns ={[\"A\",\"B\",.....]})\n",
    "    "
   ]
  },
  {
   "cell_type": "code",
   "execution_count": 124,
   "id": "distinguished-gnome",
   "metadata": {},
   "outputs": [
    {
     "data": {
      "text/html": [
       "<div>\n",
       "<style scoped>\n",
       "    .dataframe tbody tr th:only-of-type {\n",
       "        vertical-align: middle;\n",
       "    }\n",
       "\n",
       "    .dataframe tbody tr th {\n",
       "        vertical-align: top;\n",
       "    }\n",
       "\n",
       "    .dataframe thead th {\n",
       "        text-align: right;\n",
       "    }\n",
       "</style>\n",
       "<table border=\"1\" class=\"dataframe\">\n",
       "  <thead>\n",
       "    <tr style=\"text-align: right;\">\n",
       "      <th></th>\n",
       "      <th>S</th>\n",
       "      <th>Team</th>\n",
       "      <th>League</th>\n",
       "      <th>GP</th>\n",
       "      <th>G</th>\n",
       "      <th>A</th>\n",
       "      <th>TP</th>\n",
       "      <th>PIM</th>\n",
       "      <th>+/-</th>\n",
       "      <th></th>\n",
       "      <th>POST</th>\n",
       "      <th>GP</th>\n",
       "      <th>G</th>\n",
       "      <th>A</th>\n",
       "      <th>TP</th>\n",
       "      <th>PIM</th>\n",
       "      <th>+/-</th>\n",
       "    </tr>\n",
       "  </thead>\n",
       "  <tbody>\n",
       "    <tr>\n",
       "      <th>0</th>\n",
       "      <td>2014-15</td>\n",
       "      <td>MIT (Mass. Inst. of Tech.)</td>\n",
       "      <td>ACHA II</td>\n",
       "      <td>17</td>\n",
       "      <td>3</td>\n",
       "      <td>9</td>\n",
       "      <td>12</td>\n",
       "      <td>20</td>\n",
       "      <td></td>\n",
       "      <td>|</td>\n",
       "      <td></td>\n",
       "      <td></td>\n",
       "      <td></td>\n",
       "      <td></td>\n",
       "      <td></td>\n",
       "      <td></td>\n",
       "      <td></td>\n",
       "    </tr>\n",
       "    <tr>\n",
       "      <th>1</th>\n",
       "      <td>2015-16</td>\n",
       "      <td>MIT (Mass. Inst. of Tech.)</td>\n",
       "      <td>ACHA II</td>\n",
       "      <td>9</td>\n",
       "      <td>1</td>\n",
       "      <td>1</td>\n",
       "      <td>2</td>\n",
       "      <td>2</td>\n",
       "      <td></td>\n",
       "      <td>|</td>\n",
       "      <td></td>\n",
       "      <td></td>\n",
       "      <td></td>\n",
       "      <td></td>\n",
       "      <td></td>\n",
       "      <td></td>\n",
       "      <td></td>\n",
       "    </tr>\n",
       "    <tr>\n",
       "      <th>2</th>\n",
       "      <td>2016-17</td>\n",
       "      <td>MIT (Mass. Inst. of Tech.)</td>\n",
       "      <td>ACHA II</td>\n",
       "      <td>12</td>\n",
       "      <td>5</td>\n",
       "      <td>5</td>\n",
       "      <td>10</td>\n",
       "      <td>8</td>\n",
       "      <td>0</td>\n",
       "      <td>|</td>\n",
       "      <td></td>\n",
       "      <td></td>\n",
       "      <td></td>\n",
       "      <td></td>\n",
       "      <td></td>\n",
       "      <td></td>\n",
       "      <td></td>\n",
       "    </tr>\n",
       "    <tr>\n",
       "      <th>3</th>\n",
       "      <td>2017-18</td>\n",
       "      <td>Did not play</td>\n",
       "      <td></td>\n",
       "      <td></td>\n",
       "      <td></td>\n",
       "      <td></td>\n",
       "      <td></td>\n",
       "      <td></td>\n",
       "      <td></td>\n",
       "      <td>|</td>\n",
       "      <td></td>\n",
       "      <td></td>\n",
       "      <td></td>\n",
       "      <td></td>\n",
       "      <td></td>\n",
       "      <td></td>\n",
       "      <td></td>\n",
       "    </tr>\n",
       "    <tr>\n",
       "      <th>4</th>\n",
       "      <td>2018-19</td>\n",
       "      <td>MIT (Mass. Inst. of Tech.)</td>\n",
       "      <td>ACHA III</td>\n",
       "      <td>8</td>\n",
       "      <td>5</td>\n",
       "      <td>10</td>\n",
       "      <td>15</td>\n",
       "      <td>8</td>\n",
       "      <td></td>\n",
       "      <td>|</td>\n",
       "      <td></td>\n",
       "      <td></td>\n",
       "      <td></td>\n",
       "      <td></td>\n",
       "      <td></td>\n",
       "      <td></td>\n",
       "      <td></td>\n",
       "    </tr>\n",
       "  </tbody>\n",
       "</table>\n",
       "</div>"
      ],
      "text/plain": [
       "         S                        Team    League  GP  G   A  TP PIM +/-     \\\n",
       "0  2014-15  MIT (Mass. Inst. of Tech.)   ACHA II  17  3   9  12  20      |   \n",
       "1  2015-16  MIT (Mass. Inst. of Tech.)   ACHA II   9  1   1   2   2      |   \n",
       "2  2016-17  MIT (Mass. Inst. of Tech.)   ACHA II  12  5   5  10   8   0  |   \n",
       "3  2017-18                Did not play                                   |   \n",
       "4  2018-19  MIT (Mass. Inst. of Tech.)  ACHA III   8  5  10  15   8      |   \n",
       "\n",
       "  POST GP G A TP PIM +/-  \n",
       "0                         \n",
       "1                         \n",
       "2                         \n",
       "3                         \n",
       "4                         "
      ]
     },
     "execution_count": 124,
     "metadata": {},
     "output_type": "execute_result"
    }
   ],
   "source": [
    "import pandas as pd\n",
    "table = webpage.select('table.hockey-stats')[0]\n",
    "columns = table.find('thead').find_all('th')\n",
    "column_names = [c.string for c in columns]\n",
    "\n",
    "table_rows = table.find('tbody').find_all('tr')\n",
    "l=[]\n",
    "for tr in table_rows:\n",
    "    td =tr.find_all('td')\n",
    "    row = [str(tr.get_text()).strip() for tr in td]\n",
    "    l.append(row)\n",
    "df = pd.DataFrame(l,columns =column_names)\n",
    "    \n",
    "df.head()"
   ]
  },
  {
   "cell_type": "markdown",
   "id": "indian-wallpaper",
   "metadata": {},
   "source": [
    "## Grab all fun facts that use word \"is\""
   ]
  },
  {
   "cell_type": "code",
   "execution_count": 151,
   "id": "pressed-residence",
   "metadata": {},
   "outputs": [
    {
     "name": "stdout",
     "output_type": "stream",
     "text": [
      "['Middle name is Ronald', 'Dunkin Donuts coffee is better than Starbucks', \"A favorite book series of mine is Ender's Game\", 'Current video game of choice is Rocket League', \"The band that I've seen the most times live is the Zac Brown Band\"]\n"
     ]
    }
   ],
   "source": [
    "facts = webpage.select('ul.fun-facts li')\n",
    "facts_with_is = [fact.find(string = re.compile('is')) for fact in facts]\n",
    "facts_with_is =[fact.find_parent().get_text() for fact in facts_with_is if fact]#filter none\n",
    "print(facts_with_is)"
   ]
  },
  {
   "cell_type": "markdown",
   "id": "rising-video",
   "metadata": {},
   "source": [
    "## Download an image"
   ]
  },
  {
   "cell_type": "code",
   "execution_count": 160,
   "id": "canadian-diesel",
   "metadata": {},
   "outputs": [
    {
     "data": {
      "text/plain": [
       "[<img alt=\"Lake Como\" src=\"images/italy/lake_como.jpg\" style=\"height:100%\"/>,\n",
       " <img alt=\"Pontevecchio, Florence\" src=\"images/italy/pontevecchio.jpg\" style=\"height:100%\"/>,\n",
       " <img alt=\"Riomaggiore, Cinque de Terre\" src=\"images/italy/riomaggiore.jpg\" style=\"height:100%\"/>]"
      ]
     },
     "execution_count": 160,
     "metadata": {},
     "output_type": "execute_result"
    }
   ],
   "source": [
    "url =\"https://keithgalli.github.io/web-scraping/\"\n",
    "imagelocation = webpage.select('div.row div.column img')\n",
    "imagelocation"
   ]
  },
  {
   "cell_type": "code",
   "execution_count": 161,
   "id": "russian-morrison",
   "metadata": {},
   "outputs": [
    {
     "data": {
      "text/plain": [
       "'images/italy/lake_como.jpg'"
      ]
     },
     "execution_count": 161,
     "metadata": {},
     "output_type": "execute_result"
    }
   ],
   "source": [
    "image = imagelocation[0]['src']\n",
    "image"
   ]
  },
  {
   "cell_type": "code",
   "execution_count": 162,
   "id": "behind-eligibility",
   "metadata": {},
   "outputs": [],
   "source": [
    "full_url = url+image"
   ]
  },
  {
   "cell_type": "code",
   "execution_count": 163,
   "id": "surrounded-aurora",
   "metadata": {},
   "outputs": [],
   "source": [
    "img_data = requests.get(full_url).content\n",
    "with open('image_lake_como.jpg','wb') as handler:\n",
    "    handler.write(img_data)"
   ]
  },
  {
   "cell_type": "markdown",
   "id": "prompt-output",
   "metadata": {},
   "source": [
    "### Solve the mystrey Challenge"
   ]
  },
  {
   "cell_type": "code",
   "execution_count": 165,
   "id": "suburban-florist",
   "metadata": {},
   "outputs": [
    {
     "data": {
      "text/plain": [
       "['challenge/file_1.html',\n",
       " 'challenge/file_2.html',\n",
       " 'challenge/file_3.html',\n",
       " 'challenge/file_4.html',\n",
       " 'challenge/file_5.html',\n",
       " 'challenge/file_6.html',\n",
       " 'challenge/file_7.html',\n",
       " 'challenge/file_8.html',\n",
       " 'challenge/file_9.html',\n",
       " 'challenge/file_10.html']"
      ]
     },
     "execution_count": 165,
     "metadata": {},
     "output_type": "execute_result"
    }
   ],
   "source": [
    "files = webpage.select('div.block a')\n",
    "file = [f['href'] for f in files]\n",
    "file"
   ]
  },
  {
   "cell_type": "code",
   "execution_count": 172,
   "id": "appropriate-equivalent",
   "metadata": {},
   "outputs": [
    {
     "name": "stdout",
     "output_type": "stream",
     "text": [
      "Make\n",
      "sure\n",
      "to\n",
      "smash\n",
      "that\n",
      "like\n",
      "button\n",
      "and\n",
      "subscribe\n",
      "!!!\n"
     ]
    }
   ],
   "source": [
    "for f in file:\n",
    "    full_url = url + f\n",
    "    page = requests.get(full_url)#load page\n",
    "    bs_page = bs(page.content)\n",
    "    print(bs_page.find('p',attrs={\"id\":\"secret-word\"}).string)"
   ]
  },
  {
   "cell_type": "code",
   "execution_count": null,
   "id": "loose-shoot",
   "metadata": {},
   "outputs": [],
   "source": [
    "img_data = requests.get(full_url).content\n",
    "with open('image_lake_como.jpg','wb') as handler:\n",
    "    handler.write(img_data)"
   ]
  }
 ],
 "metadata": {
  "kernelspec": {
   "display_name": "Python 3",
   "language": "python",
   "name": "python3"
  },
  "language_info": {
   "codemirror_mode": {
    "name": "ipython",
    "version": 3
   },
   "file_extension": ".py",
   "mimetype": "text/x-python",
   "name": "python",
   "nbconvert_exporter": "python",
   "pygments_lexer": "ipython3",
   "version": "3.9.2"
  }
 },
 "nbformat": 4,
 "nbformat_minor": 5
}
